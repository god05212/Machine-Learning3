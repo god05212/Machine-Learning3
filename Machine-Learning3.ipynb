{
  "nbformat": 4,
  "nbformat_minor": 0,
  "metadata": {
    "colab": {
      "provenance": [],
      "toc_visible": true,
      "authorship_tag": "ABX9TyN30Fau2k6m0fVilwgRn0f3",
      "include_colab_link": true
    },
    "kernelspec": {
      "name": "python3",
      "display_name": "Python 3"
    },
    "language_info": {
      "name": "python"
    }
  },
  "cells": [
    {
      "cell_type": "markdown",
      "metadata": {
        "id": "view-in-github",
        "colab_type": "text"
      },
      "source": [
        "<a href=\"https://colab.research.google.com/github/god05212/VGG19/blob/main/Machine-Learning3.ipynb\" target=\"_parent\"><img src=\"https://colab.research.google.com/assets/colab-badge.svg\" alt=\"Open In Colab\"/></a>"
      ]
    },
    {
      "cell_type": "markdown",
      "source": [
        "### 사용한 데이터셋\n",
        "> Heart Attack Analysis & Prediction Dataset: A dataset for heart attack classification\n",
        "\n",
        "- RASHIK RAHMAN\n",
        "- https://www.kaggle.com/rashikrahmanpritom\n",
        "- https://www.kaggle.com/datasets/rashikrahmanpritom/heart-attack-analysis-prediction-dataset/data"
      ],
      "metadata": {
        "id": "3SLCRojo5Ye_"
      }
    },
    {
      "cell_type": "markdown",
      "source": [
        "# 1. Introduction"
      ],
      "metadata": {
        "id": "u0ix3wAJ7Wyp"
      }
    },
    {
      "cell_type": "markdown",
      "source": [
        "## 1.1 Data Dictionary"
      ],
      "metadata": {
        "id": "zs_sC2fC7uOm"
      }
    },
    {
      "cell_type": "markdown",
      "source": [],
      "metadata": {
        "id": "M5BLAAlo6WBy"
      }
    }
  ]
}