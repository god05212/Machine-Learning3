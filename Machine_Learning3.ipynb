{
  "nbformat": 4,
  "nbformat_minor": 0,
  "metadata": {
    "colab": {
      "provenance": [],
      "toc_visible": true,
      "include_colab_link": true
    },
    "kernelspec": {
      "name": "python3",
      "display_name": "Python 3"
    },
    "language_info": {
      "name": "python"
    }
  },
  "cells": [
    {
      "cell_type": "markdown",
      "metadata": {
        "id": "view-in-github",
        "colab_type": "text"
      },
      "source": [
        "<a href=\"https://colab.research.google.com/github/god05212/Machine-Learning3/blob/main/Machine_Learning3.ipynb\" target=\"_parent\"><img src=\"https://colab.research.google.com/assets/colab-badge.svg\" alt=\"Open In Colab\"/></a>"
      ]
    },
    {
      "cell_type": "markdown",
      "source": [
        "### 사용한 데이터셋\n",
        "> Heart Attack Analysis & Prediction Dataset: A dataset for heart attack classification\n",
        "\n",
        "- RASHIK RAHMAN\n",
        "- https://www.kaggle.com/rashikrahmanpritom\n",
        "- https://www.kaggle.com/datasets/rashikrahmanpritom/heart-attack-analysis-prediction-dataset/data"
      ],
      "metadata": {
        "id": "3SLCRojo5Ye_"
      }
    },
    {
      "cell_type": "markdown",
      "source": [
        "# 1. Introduction"
      ],
      "metadata": {
        "id": "u0ix3wAJ7Wyp"
      }
    },
    {
      "cell_type": "markdown",
      "source": [
        "## 1.1 Data Dictionary"
      ],
      "metadata": {
        "id": "zs_sC2fC7uOm"
      }
    },
    {
      "cell_type": "markdown",
      "source": [
        "age: 환자의 나이\n",
        "\n",
        "sex: 환자의 성별\n",
        "\n",
        "cp: 가슴 통증 유형 ~ 0 = 전형적인 협심증, 1 = 비전형적인 협심증, 2 = 비협심성 통증, 3 = 무증상\n",
        "\n",
        "trtbps: 안정시 혈압 (mm Hg)\n",
        "\n",
        "chol: 콜레스테롤 (mg/dl), BMI 센서를 통해 측정됨\n",
        "\n",
        "fbs: (공복 혈당 > 120 mg/dl) ~ 1 = True, 0 = False\n",
        "\n",
        "restecg: 안정시 심전도 결과 ~ 0 = 정상, 1 = ST-T파 이상, 2 = 좌심실 비대\n",
        "\n",
        "thalachh: 최대 심박수\n",
        "\n",
        "oldpeak: 이전 최저 수치\n",
        "\n",
        "slp: 기울기\n",
        "\n",
        "caa: 주요 혈관의 수\n",
        "\n",
        "thall: 탈륨 스트레스 테스트 결과 ~ (0,3)\n",
        "\n",
        "exng: 운동 유발 협심증 ~ 1 = 예, 0 = 아니오\n",
        "\n",
        "output: 목표 변수"
      ],
      "metadata": {
        "id": "M5BLAAlo6WBy"
      }
    }
  ]
}